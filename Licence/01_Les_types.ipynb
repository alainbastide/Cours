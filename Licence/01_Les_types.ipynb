{
 "cells": [
  {
   "cell_type": "markdown",
   "metadata": {},
   "source": [
    "# Les types"
   ]
  },
  {
   "cell_type": "code",
   "execution_count": 1,
   "metadata": {
    "collapsed": true
   },
   "outputs": [],
   "source": [
    "a = 2\n",
    "b = 3.75\n",
    "c = 'g'\n",
    "d = 'arbre'\n"
   ]
  },
  {
   "cell_type": "code",
   "execution_count": 2,
   "metadata": {},
   "outputs": [
    {
     "name": "stdout",
     "output_type": "stream",
     "text": [
      "<class 'int'>\n",
      "<class 'float'>\n",
      "<class 'str'>\n",
      "<class 'str'>\n"
     ]
    }
   ],
   "source": [
    "print(type(a))\n",
    "print(type(b))\n",
    "print(type(c))\n",
    "print(type(d))"
   ]
  },
  {
   "cell_type": "markdown",
   "metadata": {},
   "source": [
    "$int$ signifie entier, $float$ signifie réel, $str$ signifie chaîne de caractères\n",
    "\n",
    "Un entier ou un réel sont codés sur N octets soit Nx8 bits. Il est possible de choisir le type de codage d'un entier ou un réel.\n",
    "\n",
    "On charge la librairie **numpy** (plus d'information [sur le site numpy](https://docs.scipy.org/doc/numpy/user/basics.types.html))"
   ]
  },
  {
   "cell_type": "code",
   "execution_count": 3,
   "metadata": {},
   "outputs": [
    {
     "name": "stdout",
     "output_type": "stream",
     "text": [
      "<class 'float'>\n"
     ]
    }
   ],
   "source": [
    "aa = 2.\n",
    "print(type(aa))"
   ]
  },
  {
   "cell_type": "markdown",
   "metadata": {},
   "source": [
    "Ajouter le \".\" après le 2 dit à Python de considérer 2 comme un réel et non un entier."
   ]
  },
  {
   "cell_type": "markdown",
   "metadata": {},
   "source": [
    "Il est possible de forcer la prise en compte d'un entier ou d'un réel en utilisant les fonctions int() et float()"
   ]
  },
  {
   "cell_type": "code",
   "execution_count": 4,
   "metadata": {},
   "outputs": [
    {
     "name": "stdout",
     "output_type": "stream",
     "text": [
      "bb  3 <class 'int'>\n",
      "aaa  2.0 <class 'float'>\n"
     ]
    }
   ],
   "source": [
    "bb=int(b)\n",
    "print(\"bb \", bb, type(bb))\n",
    "aaa=float(a)\n",
    "print(\"aaa \", aaa, type(aaa))\n"
   ]
  },
  {
   "cell_type": "code",
   "execution_count": 5,
   "metadata": {},
   "outputs": [
    {
     "name": "stdout",
     "output_type": "stream",
     "text": [
      "type(e) <class 'list'>\n",
      "type(f) <class 'tuple'>\n"
     ]
    }
   ],
   "source": [
    "# Ceci est un vecteur\n",
    "e = [2,3,1]\n",
    "print(\"type(e)\",type(e))\n",
    "\n",
    "# Ceci est un tuple\n",
    "f = (2,\"toto\",1)\n",
    "print(\"type(f)\",type(f))\n"
   ]
  },
  {
   "cell_type": "markdown",
   "metadata": {},
   "source": [
    "Voici la signification de chaque fonction et les limites numériques associées :\n",
    "\n",
    "\n",
    "int8 \tByte (-128 to 127)\n",
    "\n",
    "int16 \tInteger (-32768 to 32767)\n",
    "\n",
    "int32 \tInteger (-2147483648 to 2147483647)\n",
    "\n",
    "int64 \tInteger (-9223372036854775808 to 9223372036854775807)\n",
    "\n",
    "\n",
    "uint8 \tUnsigned integer (0 to 255)\n",
    "\n",
    "uint16 \tUnsigned integer (0 to 65535)\n",
    "\n",
    "uint32 \tUnsigned integer (0 to 4294967295)\n",
    "\n",
    "uint64 \tUnsigned integer (0 to 18446744073709551615)\n",
    "\n",
    "\n",
    "float16 \tHalf precision float: sign bit, 5 bits exponent, 10 bits mantissa\n",
    "\n",
    "float32 \tSingle precision float: sign bit, 8 bits exponent, 23 bits mantissa\n",
    "\n",
    "float64 \tDouble precision float: sign bit, 11 bits exponent, 52 bits mantissa\n"
   ]
  },
  {
   "cell_type": "code",
   "execution_count": 6,
   "metadata": {
    "collapsed": true
   },
   "outputs": [],
   "source": [
    "# on charge la librairie numpy et on y fera appel à l'aide du mot clé np\n",
    "import numpy as np\n"
   ]
  },
  {
   "cell_type": "code",
   "execution_count": 7,
   "metadata": {},
   "outputs": [
    {
     "name": "stdout",
     "output_type": "stream",
     "text": [
      "<class 'numpy.float32'>\n"
     ]
    }
   ],
   "source": [
    "x = np.float32(1.0)\n",
    "print(type(x))"
   ]
  },
  {
   "cell_type": "code",
   "execution_count": 8,
   "metadata": {},
   "outputs": [
    {
     "name": "stdout",
     "output_type": "stream",
     "text": [
      "<class 'numpy.float64'>\n"
     ]
    }
   ],
   "source": [
    "x = np.float64(1.0)\n",
    "print(type(x))"
   ]
  },
  {
   "cell_type": "markdown",
   "metadata": {},
   "source": [
    "On génère sciemment une erreur \"d'Overflow\" et on observe. Python nous prévient quand on dépasse les limites contrairement au language C"
   ]
  },
  {
   "cell_type": "code",
   "execution_count": 9,
   "metadata": {},
   "outputs": [
    {
     "ename": "OverflowError",
     "evalue": "Python int too large to convert to C long",
     "output_type": "error",
     "traceback": [
      "\u001b[1;31m---------------------------------------------------------------------------\u001b[0m",
      "\u001b[1;31mOverflowError\u001b[0m                             Traceback (most recent call last)",
      "\u001b[1;32m<ipython-input-9-9ca139207a5d>\u001b[0m in \u001b[0;36m<module>\u001b[1;34m()\u001b[0m\n\u001b[1;32m----> 1\u001b[1;33m \u001b[0mn\u001b[0m\u001b[1;33m=\u001b[0m\u001b[0mnp\u001b[0m\u001b[1;33m.\u001b[0m\u001b[0mint16\u001b[0m\u001b[1;33m(\u001b[0m\u001b[1;36m10000000000000000\u001b[0m\u001b[1;33m)\u001b[0m\u001b[1;33m\u001b[0m\u001b[0m\n\u001b[0m",
      "\u001b[1;31mOverflowError\u001b[0m: Python int too large to convert to C long"
     ]
    }
   ],
   "source": [
    "n=np.int16(10000000000000000)"
   ]
  },
  {
   "cell_type": "code",
   "execution_count": null,
   "metadata": {},
   "outputs": [],
   "source": [
    "g = np.array([2,3,1],dtype=np.float64)\n",
    "print(\"type(g)\",type(g))\n",
    "\n",
    "h = np.array([2.552,3,1.4543],dtype=np.int32)\n",
    "print(\"type(h)\",type(h))\n",
    "\n",
    "print(\"Accès à un élément d'une liste où d'un tableau\")\n",
    "\n",
    "print(\"La deuxième composante de h : h[1] -> \",h[2])\n",
    "\n",
    "print(\"Vecteurs \\n\")\n",
    "\n",
    "V = np.array([-1,4])\n",
    "\n",
    "print(\"Vecteurs V\", V)\n",
    "\n",
    "print(\"Element du vecteur V \\n\")\n",
    "i=0\n",
    "print(\"Vecteurs V[i]\", V[i])\n",
    "\n",
    "print(\"type(V[i])\", type(V[i]))\n",
    "\n",
    "print(\"Matrices \\n\")\n",
    "\n",
    "M = np.array([[1,2], [10,-20]])\n",
    "\n",
    "print(\"Matrice M\", M)\n",
    "\n",
    "print(\"type(Matrice M)\", type(M))\n",
    "\n",
    "\n",
    "print(\"Element de la matrice M\\n\")\n",
    "i=0 #colonne\n",
    "j=1 #ligne\n",
    "print(\"M[i][j]\", M[i][j])\n",
    "\n",
    "print(\"type(M[i][j])\", type(M[i][j]))\n"
   ]
  },
  {
   "cell_type": "code",
   "execution_count": null,
   "metadata": {},
   "outputs": [],
   "source": [
    "from IPython.core.display import HTML\n",
    "def css_styling():\n",
    "    styles = open(\"../styles/custom.css\", \"r\").read()\n",
    "    return HTML(styles)\n",
    "css_styling()\n"
   ]
  }
 ],
 "metadata": {
  "kernelspec": {
   "display_name": "Python 3",
   "language": "python",
   "name": "python3"
  },
  "language_info": {
   "codemirror_mode": {
    "name": "ipython",
    "version": 3
   },
   "file_extension": ".py",
   "mimetype": "text/x-python",
   "name": "python",
   "nbconvert_exporter": "python",
   "pygments_lexer": "ipython3",
   "version": "3.6.1"
  }
 },
 "nbformat": 4,
 "nbformat_minor": 2
}
