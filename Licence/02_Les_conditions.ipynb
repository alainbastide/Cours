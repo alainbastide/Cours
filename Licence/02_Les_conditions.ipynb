{
 "cells": [
  {
   "cell_type": "code",
   "execution_count": null,
   "metadata": {
    "collapsed": true
   },
   "outputs": [],
   "source": [
    "# Premier exemple de condition"
   ]
  },
  {
   "cell_type": "code",
   "execution_count": null,
   "metadata": {
    "collapsed": true
   },
   "outputs": [],
   "source": [
    "a = 5\n",
    "if a > 0: # Si a est supérieur à 0\n",
    "    print(\"a est supérieur à 0.\")"
   ]
  },
  {
   "cell_type": "code",
   "execution_count": null,
   "metadata": {
    "collapsed": true
   },
   "outputs": [],
   "source": [
    "a = 5\n",
    "b = 8\n",
    "if a > 0:     \n",
    "    b += 10     \n",
    "    print(\"a =\",a,\"et b =\",b)"
   ]
  },
  {
   "cell_type": "code",
   "execution_count": null,
   "metadata": {
    "collapsed": true
   },
   "outputs": [],
   "source": [
    "age = 40\n",
    "if age >= 18:  \n",
    "    print(\"Vous êtes majeur.\")\n",
    "else:  \n",
    "    print(\"Vous êtes mineur.\")\n",
    "    \n",
    "    \n",
    "    "
   ]
  },
  {
   "cell_type": "code",
   "execution_count": null,
   "metadata": {
    "collapsed": true
   },
   "outputs": [],
   "source": [
    "# On fait un test pour savoir si a est comprise dans l'intervalle allant de 2 à 8 inclus\n",
    "a = 5\n",
    "if a >= 2:\n",
    "    if a <= 8:\n",
    "        print(\"a est dans l'intervalle.\")\n",
    "    else:\n",
    "        print(\"a n'est pas dans l'intervalle.\")\n",
    "else:\n",
    "    print(\"a n'est pas dans l'intervalle.\")\n",
    "    "
   ]
  },
  {
   "cell_type": "code",
   "execution_count": null,
   "metadata": {
    "collapsed": true
   },
   "outputs": [],
   "source": [
    "    \n",
    "if a<2 or a>8:\n",
    "    print(\"a n'est pas dans l'intervalle.\")\n",
    "else:\n",
    "    print(\"a est dans l'intervalle.\")"
   ]
  },
  {
   "cell_type": "code",
   "execution_count": 1,
   "metadata": {},
   "outputs": [
    {
     "name": "stdout",
     "output_type": "stream",
     "text": [
      "a est supérieur à 0.\n",
      "a = 5 et b = 9\n",
      "Vous êtes majeur.\n",
      "a est dans l'intervalle.\n",
      "a est dans l'intervalle.\n",
      "Saisissez une année : 2001\n",
      "L'année saisie n'est pas bissextile.\n",
      "Saisissez une année : 2002\n",
      "L'année saisie n'est pas bissextile.\n"
     ]
    }
   ],
   "source": [
    "    \n",
    "# Programme testant si une année, saisie par l'utilisateur,\n",
    "# est bissextile ou non\n",
    "\n",
    "annee = input(\"Saisissez une année : \") # On attend que l'utilisateur saisisse l'année qu'il désire tester\n",
    "annee = int(annee) # Risque d'erreur si l'utilisateur n'a pas saisi un nombre\n",
    "bissextile = False # On crée un booléen qui vaut vrai ou faux\n",
    "                   # selon que l'année est bissextile ou non\n",
    "\n",
    "if annee % 400 == 0:\n",
    "    bissextile = True\n",
    "elif annee % 100 == 0:\n",
    "    bissextile = False\n",
    "elif annee % 4 == 0:\n",
    "    bissextile = True\n",
    "else:\n",
    "    bissextile = False\n",
    "\n",
    "if bissextile: # Si l'année est bissextile\n",
    "    print(\"L'année saisie est bissextile.\")\n",
    "else:\n",
    "    print(\"L'année saisie n'est pas bissextile.\")\n",
    "    \n",
    "    \n",
    "# Programme testant si une année, saisie par l'utilisateur, est bissextile ou non\n",
    "\n",
    "annee = input(\"Saisissez une année : \") # On attend que l'utilisateur saisisse l'année qu'il désire tester\n",
    "annee = int(annee) # Risque d'erreur si l'utilisateur n'a pas saisi un nombre\n",
    "\n",
    "if annee % 400 == 0 or (annee % 4 == 0 or annee % 100 == 0):\n",
    "    print(\"L'année saisie est bissextile.\")\n",
    "else:\n",
    "    print(\"L'année saisie n'est pas bissextile.\")"
   ]
  },
  {
   "cell_type": "code",
   "execution_count": null,
   "metadata": {
    "collapsed": true
   },
   "outputs": [],
   "source": []
  }
 ],
 "metadata": {
  "kernelspec": {
   "display_name": "Python 3",
   "language": "python",
   "name": "python3"
  },
  "language_info": {
   "codemirror_mode": {
    "name": "ipython",
    "version": 3
   },
   "file_extension": ".py",
   "mimetype": "text/x-python",
   "name": "python",
   "nbconvert_exporter": "python",
   "pygments_lexer": "ipython3",
   "version": "3.6.1"
  }
 },
 "nbformat": 4,
 "nbformat_minor": 2
}
