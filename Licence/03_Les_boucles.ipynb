{
 "cells": [
  {
   "cell_type": "markdown",
   "metadata": {},
   "source": [
    "# Les Boucles"
   ]
  },
  {
   "cell_type": "code",
   "execution_count": 1,
   "metadata": {
    "collapsed": true
   },
   "outputs": [],
   "source": [
    "import numpy as np"
   ]
  },
  {
   "cell_type": "code",
   "execution_count": 2,
   "metadata": {},
   "outputs": [
    {
     "name": "stdout",
     "output_type": "stream",
     "text": [
      "1\n",
      "2\n",
      "3\n",
      "4\n",
      "5\n"
     ]
    }
   ],
   "source": [
    "i = 1\n",
    "while i <= 5:\n",
    "    print(i)\n",
    "    i = i + 1"
   ]
  },
  {
   "cell_type": "code",
   "execution_count": null,
   "metadata": {},
   "outputs": [
    {
     "name": "stdout",
     "output_type": "stream",
     "text": [
      "B\n",
      "o\n",
      "n\n",
      "j\n",
      "o\n",
      "u\n",
      "r\n",
      " \n",
      "l\n",
      "e\n",
      "s\n",
      " \n",
      "é\n",
      "t\n",
      "u\n",
      "d\n",
      "i\n",
      "a\n",
      "n\n",
      "t\n",
      "s\n",
      "B\n",
      "o\n",
      "n\n",
      "j\n",
      "o\n",
      "u\n",
      "r\n",
      " \n",
      "l\n",
      "e\n",
      "s\n",
      " \n",
      "é\n",
      "t\n",
      "u\n",
      "d\n",
      "i\n",
      "a\n",
      "n\n",
      "t\n",
      "s\n"
     ]
    }
   ],
   "source": [
    "lettre = ''    \n",
    "chaine = \"Bonjour les étudiants\"\n",
    "for lettre in chaine:\n",
    "    print(lettre)\n",
    "\n",
    "for i in range(0,len(chaine)):\n",
    "    print(chaine[i])\n",
    " "
   ]
  },
  {
   "cell_type": "code",
   "execution_count": null,
   "metadata": {},
   "outputs": [],
   "source": [
    "   \n",
    "chaine = \"Bonjour les étudiantes\"\n",
    "for lettre in chaine:\n",
    "    if lettre in \"AEIOUYaeiouy\": # lettre est une voyelle\n",
    "        print(lettre)\n",
    "    else: # lettre est une consonne... ou plus exactement, lettre n'est pas une voyelle\n",
    "        print(\"*\")\n",
    "        "
   ]
  },
  {
   "cell_type": "code",
   "execution_count": null,
   "metadata": {},
   "outputs": [],
   "source": [
    "for x in range(0, 3):\n",
    "    print( \"We're on time %d\" % (x)  )      "
   ]
  },
  {
   "cell_type": "code",
   "execution_count": null,
   "metadata": {},
   "outputs": [
    {
     "name": "stdout",
     "output_type": "stream",
     "text": [
      "1 * 1 = 1\n",
      "1 * 2 = 2\n",
      "1 * 3 = 3\n",
      "1 * 4 = 4\n",
      "1 * 5 = 5\n",
      "1 * 6 = 6\n",
      "1 * 7 = 7\n",
      "1 * 8 = 8\n",
      "1 * 9 = 9\n",
      "1 * 10 = 10\n",
      "2 * 1 = 2\n",
      "2 * 2 = 4\n",
      "2 * 3 = 6\n",
      "2 * 4 = 8\n",
      "2 * 5 = 10\n",
      "2 * 6 = 12\n",
      "2 * 7 = 14\n",
      "2 * 8 = 16\n",
      "2 * 9 = 18\n",
      "2 * 10 = 20\n",
      "3 * 1 = 3\n",
      "3 * 2 = 6\n",
      "3 * 3 = 9\n",
      "3 * 4 = 12\n",
      "3 * 5 = 15\n",
      "3 * 6 = 18\n",
      "3 * 7 = 21\n",
      "3 * 8 = 24\n",
      "3 * 9 = 27\n",
      "3 * 10 = 30\n",
      "4 * 1 = 4\n",
      "4 * 2 = 8\n",
      "4 * 3 = 12\n",
      "4 * 4 = 16\n",
      "4 * 5 = 20\n",
      "4 * 6 = 24\n",
      "4 * 7 = 28\n",
      "4 * 8 = 32\n",
      "4 * 9 = 36\n",
      "4 * 10 = 40\n",
      "5 * 1 = 5\n",
      "5 * 2 = 10\n",
      "5 * 3 = 15\n",
      "5 * 4 = 20\n",
      "5 * 5 = 25\n",
      "5 * 6 = 30\n",
      "5 * 7 = 35\n",
      "5 * 8 = 40\n",
      "5 * 9 = 45\n",
      "5 * 10 = 50\n",
      "6 * 1 = 6\n",
      "6 * 2 = 12\n",
      "6 * 3 = 18\n",
      "6 * 4 = 24\n",
      "6 * 5 = 30\n",
      "6 * 6 = 36\n",
      "6 * 7 = 42\n",
      "6 * 8 = 48\n",
      "6 * 9 = 54\n",
      "6 * 10 = 60\n",
      "7 * 1 = 7\n",
      "7 * 2 = 14\n",
      "7 * 3 = 21\n",
      "7 * 4 = 28\n",
      "7 * 5 = 35\n",
      "7 * 6 = 42\n",
      "7 * 7 = 49\n",
      "7 * 8 = 56\n",
      "7 * 9 = 63\n",
      "7 * 10 = 70\n",
      "8 * 1 = 8\n",
      "8 * 2 = 16\n",
      "8 * 3 = 24\n",
      "8 * 4 = 32\n",
      "8 * 5 = 40\n",
      "8 * 6 = 48\n",
      "8 * 7 = 56\n",
      "8 * 8 = 64\n",
      "8 * 9 = 72\n",
      "8 * 10 = 80\n",
      "9 * 1 = 9\n",
      "9 * 2 = 18\n",
      "9 * 3 = 27\n",
      "9 * 4 = 36\n",
      "9 * 5 = 45\n",
      "9 * 6 = 54\n",
      "9 * 7 = 63\n",
      "9 * 8 = 72\n",
      "9 * 9 = 81\n",
      "9 * 10 = 90\n",
      "10 * 1 = 10\n",
      "10 * 2 = 20\n",
      "10 * 3 = 30\n",
      "10 * 4 = 40\n",
      "10 * 5 = 50\n",
      "10 * 6 = 60\n",
      "10 * 7 = 70\n",
      "10 * 8 = 80\n",
      "10 * 9 = 90\n",
      "10 * 10 = 100\n"
     ]
    }
   ],
   "source": [
    "# int i=0;\n",
    "# for(i=0;i<=11;i++) {\n",
    "#        }    \n",
    "for x in range(1, 11):\n",
    "    for y in range(1, 11):\n",
    "        print( '%d * %d = %d' % (x, y, x*y))\n",
    "        \n",
    "        "
   ]
  },
  {
   "cell_type": "code",
   "execution_count": null,
   "metadata": {},
   "outputs": [
    {
     "name": "stdout",
     "output_type": "stream",
     "text": [
      "Generation aléatoire d'un vecteur de dimension N\n"
     ]
    }
   ],
   "source": [
    "print(\"Generation aléatoire d'un vecteur de dimension N\")\n",
    "N  = 10\n",
    "V = np.random.rand(N)\n",
    "M = np.random.rand(N,N)"
   ]
  },
  {
   "cell_type": "code",
   "execution_count": null,
   "metadata": {},
   "outputs": [
    {
     "name": "stdout",
     "output_type": "stream",
     "text": [
      "V[ 0 ] =  0.111808602419\n",
      "V[ 1 ] =  0.922481941291\n",
      "V[ 2 ] =  0.289015000108\n",
      "V[ 3 ] =  0.615942591641\n",
      "V[ 4 ] =  0.553143235421\n",
      "V[ 5 ] =  0.217169089901\n",
      "V[ 6 ] =  0.455729869925\n",
      "V[ 7 ] =  0.563333415282\n",
      "V[ 8 ] =  0.766995713664\n",
      "V[ 9 ] =  0.55035851513\n"
     ]
    }
   ],
   "source": [
    "for i in range(N) :\n",
    "    print(\"V[\",i,\"] = \", V[i])\n",
    "    "
   ]
  },
  {
   "cell_type": "code",
   "execution_count": null,
   "metadata": {},
   "outputs": [
    {
     "name": "stdout",
     "output_type": "stream",
     "text": [
      "M[ 0 ][ 0 ] =  0.390400282602\n",
      "M[ 0 ][ 1 ] =  0.32902697893\n",
      "M[ 0 ][ 2 ] =  0.642889421518\n",
      "M[ 0 ][ 3 ] =  0.768829397369\n",
      "M[ 0 ][ 4 ] =  0.486839618898\n",
      "M[ 0 ][ 5 ] =  0.766122524602\n",
      "M[ 0 ][ 6 ] =  0.915656296345\n",
      "M[ 0 ][ 7 ] =  0.960795171093\n",
      "M[ 0 ][ 8 ] =  0.623556522284\n",
      "M[ 0 ][ 9 ] =  0.0918638361051\n",
      "M[ 1 ][ 0 ] =  0.447095149003\n",
      "M[ 1 ][ 1 ] =  0.00571103608515\n",
      "M[ 1 ][ 2 ] =  0.922824992095\n",
      "M[ 1 ][ 3 ] =  0.514216412561\n",
      "M[ 1 ][ 4 ] =  0.0143743260624\n",
      "M[ 1 ][ 5 ] =  0.298243302314\n",
      "M[ 1 ][ 6 ] =  0.474793075555\n",
      "M[ 1 ][ 7 ] =  0.671414502322\n",
      "M[ 1 ][ 8 ] =  0.963714438429\n",
      "M[ 1 ][ 9 ] =  0.528770450165\n",
      "M[ 2 ][ 0 ] =  0.507564062392\n",
      "M[ 2 ][ 1 ] =  0.588162830183\n",
      "M[ 2 ][ 2 ] =  0.729658550803\n",
      "M[ 2 ][ 3 ] =  0.301715604164\n",
      "M[ 2 ][ 4 ] =  0.177389758343\n",
      "M[ 2 ][ 5 ] =  0.35620551968\n",
      "M[ 2 ][ 6 ] =  0.466353265135\n",
      "M[ 2 ][ 7 ] =  0.504032661424\n",
      "M[ 2 ][ 8 ] =  0.760482925637\n",
      "M[ 2 ][ 9 ] =  0.79747822383\n",
      "M[ 3 ][ 0 ] =  0.0954307740172\n",
      "M[ 3 ][ 1 ] =  0.573791681759\n",
      "M[ 3 ][ 2 ] =  0.933081443923\n",
      "M[ 3 ][ 3 ] =  0.708087277262\n",
      "M[ 3 ][ 4 ] =  0.159531224339\n",
      "M[ 3 ][ 5 ] =  0.410551629712\n",
      "M[ 3 ][ 6 ] =  0.228505445429\n",
      "M[ 3 ][ 7 ] =  0.562385737741\n",
      "M[ 3 ][ 8 ] =  0.93348222053\n",
      "M[ 3 ][ 9 ] =  0.776531213778\n",
      "M[ 4 ][ 0 ] =  0.772795775252\n",
      "M[ 4 ][ 1 ] =  0.376470234686\n",
      "M[ 4 ][ 2 ] =  0.951580172013\n",
      "M[ 4 ][ 3 ] =  0.203994553187\n",
      "M[ 4 ][ 4 ] =  0.787210242593\n",
      "M[ 4 ][ 5 ] =  0.4710975151\n",
      "M[ 4 ][ 6 ] =  0.278076465378\n",
      "M[ 4 ][ 7 ] =  0.432999311169\n",
      "M[ 4 ][ 8 ] =  0.431819684514\n",
      "M[ 4 ][ 9 ] =  0.976552532055\n",
      "M[ 5 ][ 0 ] =  0.504846341814\n",
      "M[ 5 ][ 1 ] =  0.0349289733216\n",
      "M[ 5 ][ 2 ] =  0.277578223489\n",
      "M[ 5 ][ 3 ] =  0.862385172145\n",
      "M[ 5 ][ 4 ] =  0.857319799306\n",
      "M[ 5 ][ 5 ] =  0.0881574815159\n",
      "M[ 5 ][ 6 ] =  0.966004908029\n",
      "M[ 5 ][ 7 ] =  0.725926526912\n",
      "M[ 5 ][ 8 ] =  0.794045536328\n",
      "M[ 5 ][ 9 ] =  0.039437201789\n",
      "M[ 6 ][ 0 ] =  0.529225940998\n",
      "M[ 6 ][ 1 ] =  0.5894595163\n",
      "M[ 6 ][ 2 ] =  0.08379335253\n",
      "M[ 6 ][ 3 ] =  0.424967351886\n",
      "M[ 6 ][ 4 ] =  0.28828746252\n",
      "M[ 6 ][ 5 ] =  0.635682062818\n",
      "M[ 6 ][ 6 ] =  0.958977352995\n",
      "M[ 6 ][ 7 ] =  0.0218601097989\n",
      "M[ 6 ][ 8 ] =  0.479332024986\n",
      "M[ 6 ][ 9 ] =  0.214116930747\n",
      "M[ 7 ][ 0 ] =  0.467152757909\n",
      "M[ 7 ][ 1 ] =  0.0927677487549\n",
      "M[ 7 ][ 2 ] =  0.674452527672\n",
      "M[ 7 ][ 3 ] =  0.163891186945\n",
      "M[ 7 ][ 4 ] =  0.190904236559\n",
      "M[ 7 ][ 5 ] =  0.828179467882\n",
      "M[ 7 ][ 6 ] =  0.905973896117\n",
      "M[ 7 ][ 7 ] =  0.980788251573\n",
      "M[ 7 ][ 8 ] =  0.0168191689184\n",
      "M[ 7 ][ 9 ] =  0.0788781737085\n",
      "M[ 8 ][ 0 ] =  0.126779218038\n",
      "M[ 8 ][ 1 ] =  0.560409708633\n",
      "M[ 8 ][ 2 ] =  0.756828509516\n",
      "M[ 8 ][ 3 ] =  0.492982981429\n",
      "M[ 8 ][ 4 ] =  0.0540488979292\n",
      "M[ 8 ][ 5 ] =  0.0700143929477\n",
      "M[ 8 ][ 6 ] =  0.844208971823\n",
      "M[ 8 ][ 7 ] =  0.646038188955\n",
      "M[ 8 ][ 8 ] =  0.00934665622653\n",
      "M[ 8 ][ 9 ] =  0.71784621062\n",
      "M[ 9 ][ 0 ] =  0.148559222044\n",
      "M[ 9 ][ 1 ] =  0.361631754809\n",
      "M[ 9 ][ 2 ] =  0.256886311679\n",
      "M[ 9 ][ 3 ] =  0.481513970904\n",
      "M[ 9 ][ 4 ] =  0.716719334151\n",
      "M[ 9 ][ 5 ] =  0.507487179923\n",
      "M[ 9 ][ 6 ] =  0.399485379211\n",
      "M[ 9 ][ 7 ] =  0.196246349111\n",
      "M[ 9 ][ 8 ] =  0.942392101742\n",
      "M[ 9 ][ 9 ] =  0.491414251879\n"
     ]
    }
   ],
   "source": [
    "for i in range(N) :\n",
    "    for j in range(N) :\n",
    "        print(\"M[\",i,\"][\", j, \"] = \", M[i][j])\n",
    "   "
   ]
  },
  {
   "cell_type": "code",
   "execution_count": null,
   "metadata": {
    "collapsed": true
   },
   "outputs": [],
   "source": [
    " \n",
    "N = 10\n",
    "startX = 0.\n",
    "endX   = 10.\n",
    "dx     = (endX-startX)/(N)\n",
    "integrationR = 0.0\n",
    "integrationT = 0.0"
   ]
  },
  {
   "cell_type": "code",
   "execution_count": null,
   "metadata": {},
   "outputs": [
    {
     "name": "stdout",
     "output_type": "stream",
     "text": [
      "Integration rectangle :  0.249942134958\n",
      "Integration trapèzes :  0.27770562596\n"
     ]
    }
   ],
   "source": [
    "for x in np.linspace(startX,endX,N,endpoint=False):\n",
    "    \n",
    "    integrationR = integrationR + np.sin(x/180.)*dx\n",
    "    integrationT = integrationT + (np.sin(x/180.)+np.sin((x+dx)/180.))/2.*dx\n",
    "    \n",
    "print(\"Integration rectangle : \",integrationR)\n",
    "print(\"Integration trapèzes : \",integrationT)"
   ]
  },
  {
   "cell_type": "code",
   "execution_count": null,
   "metadata": {},
   "outputs": [
    {
     "data": {
      "text/html": [
       "<link href='http://fonts.googleapis.com/css?family=Fenix' rel='stylesheet' type='text/css'>\n",
       "<link href='http://fonts.googleapis.com/css?family=Alegreya+Sans:100,300,400,500,700,800,900,100italic,300italic,400italic,500italic,700italic,800italic,900italic' rel='stylesheet' type='text/css'>\n",
       "<link href='http://fonts.googleapis.com/css?family=Source+Code+Pro:300,400' rel='stylesheet' type='text/css'>\n",
       "<style>\n",
       "    @font-face {\n",
       "        font-family: \"Computer Modern\";\n",
       "        src: url('http://mirrors.ctan.org/fonts/cm-unicode/fonts/otf/cmunss.otf');\n",
       "    }\n",
       "    div.cell{\n",
       "        width:800px;\n",
       "        margin-left:16% !important;\n",
       "        margin-right:auto;\n",
       "    }\n",
       "    h1 {\n",
       "        font-family: 'Alegreya Sans', sans-serif;\n",
       "    }\n",
       "    h2 {\n",
       "        font-family: 'Fenix', serif;\n",
       "    }\n",
       "    h3{\n",
       "\t\tfont-family: 'Fenix', serif;\n",
       "        margin-top:12px;\n",
       "        margin-bottom: 3px;\n",
       "       }\n",
       "\th4{\n",
       "\t\tfont-family: 'Fenix', serif;\n",
       "       }\n",
       "    h5 {\n",
       "        font-family: 'Alegreya Sans', sans-serif;\n",
       "    }\t   \n",
       "    div.text_cell_render{\n",
       "        font-family: 'Alegreya Sans',Computer Modern, \"Helvetica Neue\", Arial, Helvetica, Geneva, sans-serif;\n",
       "        line-height: 135%;\n",
       "        font-size: 120%;\n",
       "        width:800px;\n",
       "        margin-left:auto;\n",
       "        margin-right:auto;\n",
       "    }\n",
       "    .CodeMirror{\n",
       "            font-family: \"Source Code Pro\";\n",
       "\t\t\tfont-size: 90%;\n",
       "    }\n",
       "/*    .prompt{\n",
       "        display: None;\n",
       "    }*/\n",
       "    .text_cell_render h1 {\n",
       "        font-weight: 200;\n",
       "        font-size: 50pt;\n",
       "\t\tline-height: 100%;\n",
       "        color:#CD2305;\n",
       "        margin-bottom: 0.5em;\n",
       "        margin-top: 0.5em;\n",
       "        display: block;\n",
       "    }\t\n",
       "    .text_cell_render h5 {\n",
       "        font-weight: 300;\n",
       "        font-size: 16pt;\n",
       "        color: #CD2305;\n",
       "        font-style: italic;\n",
       "        margin-bottom: .5em;\n",
       "        margin-top: 0.5em;\n",
       "        display: block;\n",
       "    }\n",
       "    \n",
       "    .warning{\n",
       "        color: rgb( 240, 20, 20 )\n",
       "        }  \n",
       "</style>\n",
       "<script>\n",
       "    MathJax.Hub.Config({\n",
       "                        TeX: {\n",
       "                           extensions: [\"AMSmath.js\"]\n",
       "                           },\n",
       "                tex2jax: {\n",
       "                    inlineMath: [ ['$','$'], [\"\\\\(\",\"\\\\)\"] ],\n",
       "                    displayMath: [ ['$$','$$'], [\"\\\\[\",\"\\\\]\"] ]\n",
       "                },\n",
       "                displayAlign: 'center', // Change this to 'center' to center equations.\n",
       "                \"HTML-CSS\": {\n",
       "                    styles: {'.MathJax_Display': {\"margin\": 4}}\n",
       "                }\n",
       "        });\n",
       "</script>\n"
      ],
      "text/plain": [
       "<IPython.core.display.HTML object>"
      ]
     },
     "execution_count": 12,
     "metadata": {},
     "output_type": "execute_result"
    }
   ],
   "source": [
    "from IPython.core.display import HTML\n",
    "def css_styling():\n",
    "    styles = open(\"../styles/custom.css\", \"r\").read()\n",
    "    return HTML(styles)\n",
    "css_styling()"
   ]
  }
 ],
 "metadata": {
  "kernelspec": {
   "display_name": "Python 3",
   "language": "python",
   "name": "python3"
  },
  "language_info": {
   "codemirror_mode": {
    "name": "ipython",
    "version": 3
   },
   "file_extension": ".py",
   "mimetype": "text/x-python",
   "name": "python",
   "nbconvert_exporter": "python",
   "pygments_lexer": "ipython3",
   "version": "3.6.1"
  }
 },
 "nbformat": 4,
 "nbformat_minor": 2
}
