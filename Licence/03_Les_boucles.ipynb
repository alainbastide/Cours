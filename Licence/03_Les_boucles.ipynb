{
 "cells": [
  {
   "cell_type": "code",
   "execution_count": 16,
   "metadata": {
    "collapsed": true
   },
   "outputs": [],
   "source": [
    "import numpy as np"
   ]
  },
  {
   "cell_type": "code",
   "execution_count": 17,
   "metadata": {},
   "outputs": [
    {
     "name": "stdout",
     "output_type": "stream",
     "text": [
      "1\n",
      "2\n",
      "3\n",
      "4\n",
      "5\n"
     ]
    }
   ],
   "source": [
    "i = 1\n",
    "while i <= 5:\n",
    "    print(i)\n",
    "    i = i + 1"
   ]
  },
  {
   "cell_type": "code",
   "execution_count": 18,
   "metadata": {},
   "outputs": [
    {
     "name": "stdout",
     "output_type": "stream",
     "text": [
      "B\n",
      "o\n",
      "n\n",
      "j\n",
      "o\n",
      "u\n",
      "r\n",
      " \n",
      "l\n",
      "e\n",
      "s\n",
      " \n",
      "é\n",
      "t\n",
      "u\n",
      "d\n",
      "i\n",
      "a\n",
      "n\n",
      "t\n",
      "s\n",
      "B\n",
      "o\n",
      "n\n",
      "j\n",
      "o\n",
      "u\n",
      "r\n",
      " \n",
      "l\n",
      "e\n",
      "s\n",
      " \n",
      "é\n",
      "t\n",
      "u\n",
      "d\n",
      "i\n",
      "a\n",
      "n\n",
      "t\n",
      "s\n"
     ]
    }
   ],
   "source": [
    "lettre = ''    \n",
    "chaine = \"Bonjour les étudiants\"\n",
    "for lettre in chaine:\n",
    "    print(lettre)\n",
    "\n",
    "for i in range(0,len(chaine)):\n",
    "    print(chaine[i])\n",
    " "
   ]
  },
  {
   "cell_type": "code",
   "execution_count": 19,
   "metadata": {},
   "outputs": [
    {
     "name": "stdout",
     "output_type": "stream",
     "text": [
      "*\n",
      "o\n",
      "*\n",
      "*\n",
      "o\n",
      "u\n",
      "*\n",
      "*\n",
      "*\n",
      "e\n",
      "*\n",
      "*\n",
      "*\n",
      "*\n",
      "u\n",
      "*\n",
      "i\n",
      "a\n",
      "*\n",
      "*\n",
      "e\n",
      "*\n"
     ]
    }
   ],
   "source": [
    "   \n",
    "chaine = \"Bonjour les étudiantes\"\n",
    "for lettre in chaine:\n",
    "    if lettre in \"AEIOUYaeiouy\": # lettre est une voyelle\n",
    "        print(lettre)\n",
    "    else: # lettre est une consonne... ou plus exactement, lettre n'est pas une voyelle\n",
    "        print(\"*\")\n",
    "        "
   ]
  },
  {
   "cell_type": "code",
   "execution_count": null,
   "metadata": {
    "collapsed": true
   },
   "outputs": [],
   "source": [
    "for x in range(0, 3):\n",
    "    print( \"We're on time %d\" % (x)  )      "
   ]
  },
  {
   "cell_type": "code",
   "execution_count": 20,
   "metadata": {},
   "outputs": [
    {
     "name": "stdout",
     "output_type": "stream",
     "text": [
      "We're on time 0\n",
      "We're on time 1\n",
      "We're on time 2\n",
      "1 * 1 = 1\n",
      "1 * 2 = 2\n",
      "1 * 3 = 3\n",
      "1 * 4 = 4\n",
      "1 * 5 = 5\n",
      "1 * 6 = 6\n",
      "1 * 7 = 7\n",
      "1 * 8 = 8\n",
      "1 * 9 = 9\n",
      "1 * 10 = 10\n",
      "2 * 1 = 2\n",
      "2 * 2 = 4\n",
      "2 * 3 = 6\n",
      "2 * 4 = 8\n",
      "2 * 5 = 10\n",
      "2 * 6 = 12\n",
      "2 * 7 = 14\n",
      "2 * 8 = 16\n",
      "2 * 9 = 18\n",
      "2 * 10 = 20\n",
      "3 * 1 = 3\n",
      "3 * 2 = 6\n",
      "3 * 3 = 9\n",
      "3 * 4 = 12\n",
      "3 * 5 = 15\n",
      "3 * 6 = 18\n",
      "3 * 7 = 21\n",
      "3 * 8 = 24\n",
      "3 * 9 = 27\n",
      "3 * 10 = 30\n",
      "4 * 1 = 4\n",
      "4 * 2 = 8\n",
      "4 * 3 = 12\n",
      "4 * 4 = 16\n",
      "4 * 5 = 20\n",
      "4 * 6 = 24\n",
      "4 * 7 = 28\n",
      "4 * 8 = 32\n",
      "4 * 9 = 36\n",
      "4 * 10 = 40\n",
      "5 * 1 = 5\n",
      "5 * 2 = 10\n",
      "5 * 3 = 15\n",
      "5 * 4 = 20\n",
      "5 * 5 = 25\n",
      "5 * 6 = 30\n",
      "5 * 7 = 35\n",
      "5 * 8 = 40\n",
      "5 * 9 = 45\n",
      "5 * 10 = 50\n",
      "6 * 1 = 6\n",
      "6 * 2 = 12\n",
      "6 * 3 = 18\n",
      "6 * 4 = 24\n",
      "6 * 5 = 30\n",
      "6 * 6 = 36\n",
      "6 * 7 = 42\n",
      "6 * 8 = 48\n",
      "6 * 9 = 54\n",
      "6 * 10 = 60\n",
      "7 * 1 = 7\n",
      "7 * 2 = 14\n",
      "7 * 3 = 21\n",
      "7 * 4 = 28\n",
      "7 * 5 = 35\n",
      "7 * 6 = 42\n",
      "7 * 7 = 49\n",
      "7 * 8 = 56\n",
      "7 * 9 = 63\n",
      "7 * 10 = 70\n",
      "8 * 1 = 8\n",
      "8 * 2 = 16\n",
      "8 * 3 = 24\n",
      "8 * 4 = 32\n",
      "8 * 5 = 40\n",
      "8 * 6 = 48\n",
      "8 * 7 = 56\n",
      "8 * 8 = 64\n",
      "8 * 9 = 72\n",
      "8 * 10 = 80\n",
      "9 * 1 = 9\n",
      "9 * 2 = 18\n",
      "9 * 3 = 27\n",
      "9 * 4 = 36\n",
      "9 * 5 = 45\n",
      "9 * 6 = 54\n",
      "9 * 7 = 63\n",
      "9 * 8 = 72\n",
      "9 * 9 = 81\n",
      "9 * 10 = 90\n",
      "10 * 1 = 10\n",
      "10 * 2 = 20\n",
      "10 * 3 = 30\n",
      "10 * 4 = 40\n",
      "10 * 5 = 50\n",
      "10 * 6 = 60\n",
      "10 * 7 = 70\n",
      "10 * 8 = 80\n",
      "10 * 9 = 90\n",
      "10 * 10 = 100\n"
     ]
    }
   ],
   "source": [
    "    \n",
    "# int i=0;\n",
    "# for(i=0;i<=11;i++) {\n",
    "#        }    \n",
    "for x in range(1, 11):\n",
    "    for y in range(1, 11):\n",
    "        print( '%d * %d = %d' % (x, y, x*y))\n",
    "        \n",
    "        "
   ]
  },
  {
   "cell_type": "code",
   "execution_count": 21,
   "metadata": {},
   "outputs": [
    {
     "name": "stdout",
     "output_type": "stream",
     "text": [
      "Generation aléatoire d'un vecteur de dimension N\n"
     ]
    }
   ],
   "source": [
    "print(\"Generation aléatoire d'un vecteur de dimension N\")\n",
    "N  = 10\n",
    "V = np.random.rand(N)\n",
    "M = np.random.rand(N,N)"
   ]
  },
  {
   "cell_type": "code",
   "execution_count": 22,
   "metadata": {},
   "outputs": [
    {
     "name": "stdout",
     "output_type": "stream",
     "text": [
      "V[ 0 ] =  0.173705347167\n",
      "V[ 1 ] =  0.626497505857\n",
      "V[ 2 ] =  0.369802947693\n",
      "V[ 3 ] =  0.862130224121\n",
      "V[ 4 ] =  0.709137086397\n",
      "V[ 5 ] =  0.344898645083\n",
      "V[ 6 ] =  0.632360410775\n",
      "V[ 7 ] =  0.189837737903\n",
      "V[ 8 ] =  0.259527630712\n",
      "V[ 9 ] =  0.812398241252\n"
     ]
    }
   ],
   "source": [
    "for i in range(N) :\n",
    "    print(\"V[\",i,\"] = \", V[i])\n",
    "    "
   ]
  },
  {
   "cell_type": "code",
   "execution_count": 23,
   "metadata": {},
   "outputs": [
    {
     "name": "stdout",
     "output_type": "stream",
     "text": [
      "M[ 0 ][ 0 ] =  0.918743785018\n",
      "M[ 0 ][ 1 ] =  0.04141126215\n",
      "M[ 0 ][ 2 ] =  0.864690269968\n",
      "M[ 0 ][ 3 ] =  0.883300793015\n",
      "M[ 0 ][ 4 ] =  0.089020216162\n",
      "M[ 0 ][ 5 ] =  0.531114873734\n",
      "M[ 0 ][ 6 ] =  0.612363378415\n",
      "M[ 0 ][ 7 ] =  0.460504258844\n",
      "M[ 0 ][ 8 ] =  0.704571523821\n",
      "M[ 0 ][ 9 ] =  0.72205312937\n",
      "M[ 1 ][ 0 ] =  0.703433357753\n",
      "M[ 1 ][ 1 ] =  0.375305104258\n",
      "M[ 1 ][ 2 ] =  0.566656407651\n",
      "M[ 1 ][ 3 ] =  0.0430963124133\n",
      "M[ 1 ][ 4 ] =  0.192352226572\n",
      "M[ 1 ][ 5 ] =  0.796610074552\n",
      "M[ 1 ][ 6 ] =  0.412609730127\n",
      "M[ 1 ][ 7 ] =  0.977847917175\n",
      "M[ 1 ][ 8 ] =  0.437875330031\n",
      "M[ 1 ][ 9 ] =  0.0606235803349\n",
      "M[ 2 ][ 0 ] =  0.807219027111\n",
      "M[ 2 ][ 1 ] =  0.146385957012\n",
      "M[ 2 ][ 2 ] =  0.0494725976566\n",
      "M[ 2 ][ 3 ] =  0.407122225188\n",
      "M[ 2 ][ 4 ] =  0.194212479881\n",
      "M[ 2 ][ 5 ] =  0.810326712125\n",
      "M[ 2 ][ 6 ] =  0.855004463903\n",
      "M[ 2 ][ 7 ] =  0.41848544183\n",
      "M[ 2 ][ 8 ] =  0.0788153981698\n",
      "M[ 2 ][ 9 ] =  0.879230432029\n",
      "M[ 3 ][ 0 ] =  0.0237049004391\n",
      "M[ 3 ][ 1 ] =  0.61596684488\n",
      "M[ 3 ][ 2 ] =  0.164815985273\n",
      "M[ 3 ][ 3 ] =  0.936212264657\n",
      "M[ 3 ][ 4 ] =  0.275963543506\n",
      "M[ 3 ][ 5 ] =  0.556703677761\n",
      "M[ 3 ][ 6 ] =  0.288044693563\n",
      "M[ 3 ][ 7 ] =  0.808279862082\n",
      "M[ 3 ][ 8 ] =  0.879524954469\n",
      "M[ 3 ][ 9 ] =  0.0159198132855\n",
      "M[ 4 ][ 0 ] =  0.443924410905\n",
      "M[ 4 ][ 1 ] =  0.515473822811\n",
      "M[ 4 ][ 2 ] =  0.262429322048\n",
      "M[ 4 ][ 3 ] =  0.842121129539\n",
      "M[ 4 ][ 4 ] =  0.371360672345\n",
      "M[ 4 ][ 5 ] =  0.795456402939\n",
      "M[ 4 ][ 6 ] =  0.992507129003\n",
      "M[ 4 ][ 7 ] =  0.434158569116\n",
      "M[ 4 ][ 8 ] =  0.352924820785\n",
      "M[ 4 ][ 9 ] =  0.186692936438\n",
      "M[ 5 ][ 0 ] =  0.173477106617\n",
      "M[ 5 ][ 1 ] =  0.0510556472596\n",
      "M[ 5 ][ 2 ] =  0.424518005944\n",
      "M[ 5 ][ 3 ] =  0.956260151818\n",
      "M[ 5 ][ 4 ] =  0.936067860384\n",
      "M[ 5 ][ 5 ] =  0.0134589393346\n",
      "M[ 5 ][ 6 ] =  0.486283146344\n",
      "M[ 5 ][ 7 ] =  0.430359517908\n",
      "M[ 5 ][ 8 ] =  0.103646356458\n",
      "M[ 5 ][ 9 ] =  0.260577979458\n",
      "M[ 6 ][ 0 ] =  0.456489609387\n",
      "M[ 6 ][ 1 ] =  0.0624422397536\n",
      "M[ 6 ][ 2 ] =  0.0382081856945\n",
      "M[ 6 ][ 3 ] =  0.219921019499\n",
      "M[ 6 ][ 4 ] =  0.73327030662\n",
      "M[ 6 ][ 5 ] =  0.355277311614\n",
      "M[ 6 ][ 6 ] =  0.805894297292\n",
      "M[ 6 ][ 7 ] =  0.0794783106069\n",
      "M[ 6 ][ 8 ] =  0.226630934575\n",
      "M[ 6 ][ 9 ] =  0.897504497626\n",
      "M[ 7 ][ 0 ] =  0.961230688544\n",
      "M[ 7 ][ 1 ] =  0.984112291546\n",
      "M[ 7 ][ 2 ] =  0.615771343421\n",
      "M[ 7 ][ 3 ] =  0.544889709318\n",
      "M[ 7 ][ 4 ] =  0.964396119785\n",
      "M[ 7 ][ 5 ] =  0.213833651349\n",
      "M[ 7 ][ 6 ] =  0.307576715721\n",
      "M[ 7 ][ 7 ] =  0.390038021823\n",
      "M[ 7 ][ 8 ] =  0.533791822311\n",
      "M[ 7 ][ 9 ] =  0.238933759442\n",
      "M[ 8 ][ 0 ] =  0.339776491461\n",
      "M[ 8 ][ 1 ] =  0.82449249402\n",
      "M[ 8 ][ 2 ] =  0.151486526766\n",
      "M[ 8 ][ 3 ] =  0.432243450777\n",
      "M[ 8 ][ 4 ] =  0.38572812036\n",
      "M[ 8 ][ 5 ] =  0.660713178901\n",
      "M[ 8 ][ 6 ] =  0.874615881779\n",
      "M[ 8 ][ 7 ] =  0.889523410728\n",
      "M[ 8 ][ 8 ] =  0.265440159986\n",
      "M[ 8 ][ 9 ] =  0.662618349286\n",
      "M[ 9 ][ 0 ] =  0.0759295691445\n",
      "M[ 9 ][ 1 ] =  0.849881447649\n",
      "M[ 9 ][ 2 ] =  0.787268187758\n",
      "M[ 9 ][ 3 ] =  0.484813288108\n",
      "M[ 9 ][ 4 ] =  0.85357651168\n",
      "M[ 9 ][ 5 ] =  0.764254295971\n",
      "M[ 9 ][ 6 ] =  0.321033563106\n",
      "M[ 9 ][ 7 ] =  0.531825283642\n",
      "M[ 9 ][ 8 ] =  0.816750237232\n",
      "M[ 9 ][ 9 ] =  0.0467131582173\n"
     ]
    }
   ],
   "source": [
    "for i in range(N) :\n",
    "    for j in range(N) :\n",
    "        print(\"M[\",i,\"][\", j, \"] = \", M[i][j])\n",
    "   "
   ]
  },
  {
   "cell_type": "code",
   "execution_count": 24,
   "metadata": {
    "collapsed": true
   },
   "outputs": [],
   "source": [
    " \n",
    "N = 10\n",
    "startX = 0.\n",
    "endX   = 10.\n",
    "dx     = (endX-startX)/(N)\n",
    "integrationR = 0.0\n",
    "integrationT = 0.0"
   ]
  },
  {
   "cell_type": "code",
   "execution_count": 25,
   "metadata": {},
   "outputs": [
    {
     "name": "stdout",
     "output_type": "stream",
     "text": [
      "Integration rectangle :  0.249942134958\n",
      "Integration trapèzes :  0.27770562596\n"
     ]
    }
   ],
   "source": [
    "for x in np.linspace(startX,endX,N,endpoint=False):\n",
    "    \n",
    "    integrationR = integrationR + np.sin(x/180.)*dx\n",
    "    integrationT = integrationT + (np.sin(x/180.)+np.sin((x+dx)/180.))/2.*dx\n",
    "    \n",
    "print(\"Integration rectangle : \",integrationR)\n",
    "print(\"Integration trapèzes : \",integrationT)"
   ]
  }
 ],
 "metadata": {
  "kernelspec": {
   "display_name": "Python 3",
   "language": "python",
   "name": "python3"
  },
  "language_info": {
   "codemirror_mode": {
    "name": "ipython",
    "version": 3
   },
   "file_extension": ".py",
   "mimetype": "text/x-python",
   "name": "python",
   "nbconvert_exporter": "python",
   "pygments_lexer": "ipython3",
   "version": "3.6.1"
  }
 },
 "nbformat": 4,
 "nbformat_minor": 2
}
