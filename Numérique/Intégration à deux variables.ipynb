{
 "cells": [
  {
   "cell_type": "markdown",
   "metadata": {},
   "source": [
    "# Intégration d'une fonction à deux variables"
   ]
  },
  {
   "cell_type": "markdown",
   "metadata": {},
   "source": [
    "Something to get you started. Define an operator:\n",
    "$$\n",
    "I_x(f) := \\int_a^b f(x) \\, dx\n",
    "$$\n",
    "We can see that $I_x(f + g) = I_x(f) + I_x(g)$ and if $\\alpha$ does not depend on $x$, $I_x(\\alpha f) = \\alpha I_x(f)$. In other words the operator is linear.\n",
    "\n",
    "If it acts on $f(x, y)$ it returns a function of $y$ only.\n",
    "\n",
    "By analogy define another operator\n",
    "$$\n",
    "I_y(f) := \\int_c^d f(y) \\, dy\n",
    "$$\n",
    "\n",
    "Applying $I_x$ and $I_y$ consequently we get a double integral:\n",
    "$$\n",
    "I_y(I_x(f)) := \\int_c^d \\left[ \\int_a^b f(x, y) \\, dx \\right] dy .\n",
    "$$\n",
    "\n",
    "Now define a \"Simpson's rule\" operator:\n",
    "$$\n",
    "S_x(f) := (f(a) + 4 f((a+b)/2) + f(b)) (b - a)/6\n",
    "$$\n",
    "It is also linear and if it acts on $f(x, y)$ it \"kills\" dependency on $x$. The same for $S_y$:\n",
    "$$\n",
    "S_y(f) := (f(c) + 4 f((c+d)/2) + f(d)) (d - c)/6\n",
    "$$\n",
    "\n",
    "By analogy with integral let compute $S_y(S_x(f(x, y)))$ and call it Simpson's rule for double integral. Apply $S_x$ to f(x, y):\n",
    "$$\n",
    "S_x(f(x, y)) = (f(a, y) + 4 f((a+b)/2, y) + f(b, y)) (b - a)/6\n",
    "$$\n",
    "and apply $S_y$ to the result using linearity\n",
    "$$\n",
    "S_y(S_x(f(x, y)) = (S_y(f(a, y)) + 4 S_y(f((a+b)/2, y)) + S_y(f(b, y))) (b - a)/6\n",
    "$$\n",
    "expand all three terms with $S_y$\n",
    "$$\n",
    "S_y(S_x(f(x, y)) = \\\\\n",
    "\\left(16f\\left(\\frac{b+a}{2},\\frac{d+c}{2}\\right)+4f\\left(\\frac{b+a}{2},d\\right)+4f\\left(\\frac{b+a}{2},c\\right)+4f\\left(b,\\frac{d+c}{2}\\right)\n",
    "                             +f\\left(b,d\\right)+f\\left(b,c\\right)+4f\\left(a,\\frac{d+c}{2}\\right)+f\\left(a,d\\right)+f\\left(a,c\\right)\\right)\n",
    " \\frac{\\left(b-a\\right)\\left(d-c\\right)}{36}\n",
    "$$\n",
    "\n"
   ]
  },
  {
   "cell_type": "code",
   "execution_count": null,
   "metadata": {},
   "outputs": [],
   "source": []
  }
 ],
 "metadata": {
  "kernelspec": {
   "display_name": "Python 3",
   "language": "python",
   "name": "python3"
  },
  "language_info": {
   "codemirror_mode": {
    "name": "ipython",
    "version": 3
   },
   "file_extension": ".py",
   "mimetype": "text/x-python",
   "name": "python",
   "nbconvert_exporter": "python",
   "pygments_lexer": "ipython3",
   "version": "3.6.4"
  }
 },
 "nbformat": 4,
 "nbformat_minor": 2
}
