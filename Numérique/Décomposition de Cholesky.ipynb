{
 "cells": [
  {
   "cell_type": "markdown",
   "metadata": {},
   "source": [
    "# Décomposition de Cholesky"
   ]
  },
  {
   "cell_type": "markdown",
   "metadata": {},
   "source": [
    "\n",
    "\\begin{align}\n",
    "\\mathbf{A} = \\mathbf{LL}^T & =\n",
    "\\begin{pmatrix}   L_{11} & 0 & 0 \\\\\n",
    "   L_{21} & L_{22} & 0 \\\\\n",
    "   L_{31} & L_{32} & L_{33}\\\\\n",
    "\\end{pmatrix}\n",
    "\\begin{pmatrix}   L_{11} & L_{21} & L_{31} \\\\\n",
    "   0 & L_{22} & L_{32} \\\\\n",
    "   0 & 0 & L_{33}\n",
    "\\end{pmatrix} \\\\\n",
    "& =\n",
    "\\begin{pmatrix}   L_{11}^2 &   &(\\text{symmetric})   \\\\\n",
    "   L_{21}L_{11} & L_{21}^2 + L_{22}^2& \\\\\n",
    "   L_{31}L_{11} & L_{31}L_{21}+L_{32}L_{22} & L_{31}^2 + L_{32}^2+L_{33}^2\n",
    "\\end{pmatrix},\n",
    "\\end{align}"
   ]
  },
  {
   "cell_type": "markdown",
   "metadata": {},
   "source": [
    "we obtain the following formula for the entries of '''L''':"
   ]
  },
  {
   "cell_type": "markdown",
   "metadata": {},
   "source": [
    "$$L_{j,j} = \\sqrt{ A_{j,j} - \\sum_{k=1}^{j-1} L_{j,k}^2 }, $$\n",
    "$$L_{i,j} = \\frac{1}{L_{j,j}} \\left( A_{i,j} - \\sum_{k=1}^{j-1} L_{i,k} L_{j,k} \\right) \\quad \\text{for } i>j. $$"
   ]
  },
  {
   "cell_type": "markdown",
   "metadata": {},
   "source": [
    "The expression under the [[square root]] is always positive if '''A''' is real and positive-definite.\n",
    "\n",
    "For complex Hermitian matrix, the following formula applies:\n",
    "\n",
    "$$L_{j,j} = \\sqrt{ A_{j,j} - \\sum_{k=1}^{j-1} L_{j,k}L_{j,k}^* }, $$\n",
    "$$L_{i,j} = \\frac{1}{L_{j,j}} \\left( A_{i,j} - \\sum_{k=1}^{j-1} L_{i,k} L_{j,k}^* \\right) \\quad \\text{for } i>j. $$"
   ]
  },
  {
   "cell_type": "markdown",
   "metadata": {},
   "source": [
    "voir [Wikipedia](https://en.wikipedia.org/wiki/Cholesky_decomposition)"
   ]
  },
  {
   "cell_type": "code",
   "execution_count": 5,
   "metadata": {},
   "outputs": [
    {
     "data": {
      "text/html": [
       "<link href='http://fonts.googleapis.com/css?family=Fenix' rel='stylesheet' type='text/css'>\n",
       "<link href='http://fonts.googleapis.com/css?family=Alegreya+Sans:100,300,400,500,700,800,900,100italic,300italic,400italic,500italic,700italic,800italic,900italic' rel='stylesheet' type='text/css'>\n",
       "<link href='http://fonts.googleapis.com/css?family=Source+Code+Pro:300,400' rel='stylesheet' type='text/css'>\n",
       "<style>\n",
       "    @font-face {\n",
       "        font-family: \"Computer Modern\";\n",
       "        src: url('http://mirrors.ctan.org/fonts/cm-unicode/fonts/otf/cmunss.otf');\n",
       "    }\n",
       "    div.cell{\n",
       "        width:800px;\n",
       "        margin-left:16% !important;\n",
       "        margin-right:auto;\n",
       "    }\n",
       "    h1 {\n",
       "        font-family: 'Alegreya Sans', sans-serif;\n",
       "    }\n",
       "    h2 {\n",
       "        font-family: 'Fenix', serif;\n",
       "    }\n",
       "    h3{\n",
       "\t\tfont-family: 'Fenix', serif;\n",
       "        margin-top:12px;\n",
       "        margin-bottom: 3px;\n",
       "       }\n",
       "\th4{\n",
       "\t\tfont-family: 'Fenix', serif;\n",
       "       }\n",
       "    h5 {\n",
       "        font-family: 'Alegreya Sans', sans-serif;\n",
       "    }\t   \n",
       "    div.text_cell_render{\n",
       "        font-family: 'Alegreya Sans',Computer Modern, \"Helvetica Neue\", Arial, Helvetica, Geneva, sans-serif;\n",
       "        line-height: 135%;\n",
       "        font-size: 120%;\n",
       "        width:800px;\n",
       "        margin-left:auto;\n",
       "        margin-right:auto;\n",
       "    }\n",
       "    .CodeMirror{\n",
       "            font-family: \"Source Code Pro\";\n",
       "\t\t\tfont-size: 90%;\n",
       "    }\n",
       "/*    .prompt{\n",
       "        display: None;\n",
       "    }*/\n",
       "    .text_cell_render h1 {\n",
       "        font-weight: 200;\n",
       "        font-size: 50pt;\n",
       "\t\tline-height: 100%;\n",
       "        color:#CD2305;\n",
       "        margin-bottom: 0.5em;\n",
       "        margin-top: 0.5em;\n",
       "        display: block;\n",
       "    }\t\n",
       "    .text_cell_render h5 {\n",
       "        font-weight: 300;\n",
       "        font-size: 16pt;\n",
       "        color: #CD2305;\n",
       "        font-style: italic;\n",
       "        margin-bottom: .5em;\n",
       "        margin-top: 0.5em;\n",
       "        display: block;\n",
       "    }\n",
       "    \n",
       "    .warning{\n",
       "        color: rgb( 240, 20, 20 )\n",
       "        }  \n",
       "</style>\n",
       "<script>\n",
       "    MathJax.Hub.Config({\n",
       "                        TeX: {\n",
       "                           extensions: [\"AMSmath.js\"]\n",
       "                           },\n",
       "                tex2jax: {\n",
       "                    inlineMath: [ ['$','$'], [\"\\\\(\",\"\\\\)\"] ],\n",
       "                    displayMath: [ ['$$','$$'], [\"\\\\[\",\"\\\\]\"] ]\n",
       "                },\n",
       "                displayAlign: 'center', // Change this to 'center' to center equations.\n",
       "                \"HTML-CSS\": {\n",
       "                    styles: {'.MathJax_Display': {\"margin\": 4}}\n",
       "                }\n",
       "        });\n",
       "</script>\n"
      ],
      "text/plain": [
       "<IPython.core.display.HTML object>"
      ]
     },
     "execution_count": 5,
     "metadata": {},
     "output_type": "execute_result"
    }
   ],
   "source": [
    "from IPython.core.display import HTML\n",
    "def css_styling():\n",
    "    styles = open(\"../styles/custom.css\", \"r\").read()\n",
    "    return HTML(styles)\n",
    "css_styling()"
   ]
  },
  {
   "cell_type": "code",
   "execution_count": 24,
   "metadata": {},
   "outputs": [],
   "source": [
    "import numpy as np\n",
    "import math\n",
    "\n",
    "def cholesky(a):\n",
    "    n = len(a)\n",
    "    for k in range(n):\n",
    "        try:\n",
    "            a[k,k] = math.sqrt(a[k,k] - np.dot(a[k,0:k],a[k,0:k]))\n",
    "        except ValueError:\n",
    "            error.err('Matrix is not positive definite')\n",
    "        for i in range(k+1,n):\n",
    "            a[i,k] = (a[i,k] - np.dot(a[i,0:k],a[k,0:k]))/a[k,k]\n",
    "    for k in range(1,n): a[0:k,k] = 0.0\n",
    "    return a\n",
    "\n",
    "def choleskySol(L,b):\n",
    "    n = len(b)\n",
    "    c = b.copy()\n",
    "    # Solution of [L]{y} = {b}\n",
    "    for k in range(n):\n",
    "        c[k] = (c[k] - np.dot(L[k,0:k],c[0:k]))/L[k,k]\n",
    "    # Solution of [L_transpose]{x} = {y}\n",
    "    for k in range(n-1,-1,-1):\n",
    "        c[k] = (c[k] - np.dot(L[k+1:n,k],c[k+1:n]))/L[k,k]\n",
    "    return c"
   ]
  },
  {
   "cell_type": "code",
   "execution_count": 25,
   "metadata": {},
   "outputs": [
    {
     "name": "stdout",
     "output_type": "stream",
     "text": [
      "Solution Par la méthode de Cholesky \n",
      "x = [ 3.09212567 -0.73871706 -0.8475723   0.13947788]\n",
      "\n",
      "Vérification : Ax =\n",
      " [  4.00000000e-02  -2.15000000e+00  -3.55271368e-15   8.80000000e-01]\n",
      "\n",
      "Ax-b= [  3.46944695e-17   4.44089210e-16  -3.55271368e-15  -9.99200722e-16]\n"
     ]
    }
   ],
   "source": [
    "\n",
    "a = np.array( \\\n",
    "             [  \\\n",
    "              [ 1.44,    -0.36,     5.52,       0.0],\\\n",
    "              [-0.36,   10.33,      -7.78,      0.0],\\\n",
    "              [ 5.52,   -7.78,      28.40,      9.0],\\\n",
    "              [ 0.0,    0.0,        9.0,        61.0]\\\n",
    "              ])\n",
    "\n",
    "b = np.array([0.04, -2.15, 0.0, 0.88])\n",
    "\n",
    "aOrig = a.copy()\n",
    "\n",
    "L = cholesky(a)\n",
    "x = choleskySol(L,b)\n",
    "\n",
    "b_star = np.dot(aOrig,x)\n",
    "\n",
    "print(\"Solution Par la méthode de Cholesky \\nx =\",x)\n",
    "print('\\nVérification : Ax =\\n',b_star)\n",
    "print(\"\\nAx-b=\",b_star-b)"
   ]
  }
 ],
 "metadata": {
  "kernelspec": {
   "display_name": "Python 3",
   "language": "python",
   "name": "python3"
  },
  "language_info": {
   "codemirror_mode": {
    "name": "ipython",
    "version": 3
   },
   "file_extension": ".py",
   "mimetype": "text/x-python",
   "name": "python",
   "nbconvert_exporter": "python",
   "pygments_lexer": "ipython3",
   "version": "3.6.1"
  }
 },
 "nbformat": 4,
 "nbformat_minor": 2
}
