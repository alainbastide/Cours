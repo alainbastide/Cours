{
 "cells": [
  {
   "cell_type": "markdown",
   "metadata": {},
   "source": [
    "# Les listes"
   ]
  },
  {
   "cell_type": "code",
   "execution_count": 6,
   "metadata": {},
   "outputs": [
    {
     "name": "stdout",
     "output_type": "stream",
     "text": [
      "([1, 2, 3, 4, 5, 6], [1, 2, 3, 4, 5, 6], [], 5, [5, 6])\n",
      "[3, 4]\n",
      "[3, 4]\n",
      "[6, 5, 4, 3, 2, 1]\n",
      "[1, 2, 3, 4, 5, 6]\n",
      "3\n",
      "[1, 2, 3, 4, 5, 6, 99]\n",
      "7\n",
      "['Hi!', 'Hi!', 'Hi!', 'Hi!']\n",
      "True\n",
      "1\n",
      "2\n",
      "3\n",
      "2\n",
      "1\n",
      "{'x': 1, 'y': 2, 'z': 3, 'w': 0, (1, 2, 3): 4}\n",
      "dict_keys(['x', 'y', 'z', 'w', (1, 2, 3)])\n",
      "dict_values([1, 2, 3, 0, 4])\n"
     ]
    }
   ],
   "source": [
    "L = [1,2,3]+[4,5,6]\n",
    "\n",
    "print( (L, L[:], L[:0], L[-2], L[-2:]) )\n",
    "print( ([1,2,3]+[4,5,6])[2:4] )\n",
    "print( [L[2],L[3]] )\n",
    "L.reverse(); print(L)\n",
    "L.sort(); print(L)\n",
    "print(L.index(4))\n",
    "\n",
    "\n",
    "L.append(99)\n",
    "print(L)\n",
    "\n",
    "print(len(L))\n",
    "\n",
    "LL = ['Hi!'] * 4\n",
    "\n",
    "print(LL)\n",
    "\n",
    "\n",
    "print( 3 in [1, 2, 3] )\n",
    "\n",
    "\n",
    "for x in [1, 2, 3]: print(x);\n",
    "    \n",
    "print({'a':1, 'b':2}['b'])\n",
    "D = {'x':1, 'y':2, 'z':3}\n",
    "D['w'] = 0\n",
    "print(D['x']+D['w'])\n",
    "D[(1,2,3)]=4; print(D)\n",
    "print(D.keys())\n",
    "print(D.values())\n",
    "\n"
   ]
  },
  {
   "cell_type": "code",
   "execution_count": 14,
   "metadata": {},
   "outputs": [
    {
     "name": "stdout",
     "output_type": "stream",
     "text": [
      "[0, 1, 2, 3, 'end']\n",
      "<class 'list'>\n",
      "[0, 1, 2, '?', 3, 'end']\n",
      "<class 'list'>\n"
     ]
    }
   ],
   "source": [
    "L = [0,1,2,3,'end']\n",
    "\n",
    "# Part (a):\n",
    "#print L[5]\n",
    "\n",
    "# Part (b):\n",
    "# -- seems to take elements as far to the left and right as possible:\n",
    "print(L[-100:100])\n",
    "print(type(L))\n",
    "\n",
    "# Part (c):\n",
    "# -- seems to insert element '?' at the position between \n",
    "#    L[2] and L[3]\n",
    "L[3:1]=['?']\n",
    "print(L)\n",
    "print(type(L))"
   ]
  },
  {
   "cell_type": "code",
   "execution_count": 15,
   "metadata": {},
   "outputs": [
    {
     "name": "stdout",
     "output_type": "stream",
     "text": [
      "[0, 1, [], 3]\n",
      "[0, 1, 3]\n",
      "[1, 2, 3]\n",
      "[0]\n",
      "[0, 1, 2, 3]\n",
      "[0, 1, 3]\n"
     ]
    }
   ],
   "source": [
    "# Assigns a empty list to the element at 2\n",
    "L = [0,1,2,3]\n",
    "L[2]=[]\n",
    "print(L)\n",
    "\n",
    "# Deletes the element at 2\n",
    "L = [0,1,2,3]\n",
    "L[2:3]=[]\n",
    "print(L)\n",
    "\n",
    "L = [0,1,2,3]\n",
    "del L[0]\n",
    "print(L)\n",
    "\n",
    "L = [0,1,2,3]\n",
    "del L[1:]\n",
    "print(L)\n",
    "\n",
    "# Replaces slice [1:2] with the element [1]:\n",
    "L = [0,1,2,3]\n",
    "L[1:2]=[1]\n",
    "print(L)\n",
    "\n",
    "# Replaces slice [1:3] (two elements) with the element [1]:\n",
    "L = [0,1,2,3]\n",
    "L[1:3]=[1]\n",
    "print(L)\n"
   ]
  },
  {
   "cell_type": "code",
   "execution_count": 16,
   "metadata": {},
   "outputs": [
    {
     "data": {
      "text/html": [
       "<link href='http://fonts.googleapis.com/css?family=Fenix' rel='stylesheet' type='text/css'>\n",
       "<link href='http://fonts.googleapis.com/css?family=Alegreya+Sans:100,300,400,500,700,800,900,100italic,300italic,400italic,500italic,700italic,800italic,900italic' rel='stylesheet' type='text/css'>\n",
       "<link href='http://fonts.googleapis.com/css?family=Source+Code+Pro:300,400' rel='stylesheet' type='text/css'>\n",
       "<style>\n",
       "    @font-face {\n",
       "        font-family: \"Computer Modern\";\n",
       "        src: url('http://mirrors.ctan.org/fonts/cm-unicode/fonts/otf/cmunss.otf');\n",
       "    }\n",
       "    div.cell{\n",
       "        width:800px;\n",
       "        margin-left:16% !important;\n",
       "        margin-right:auto;\n",
       "    }\n",
       "    h1 {\n",
       "        font-family: 'Alegreya Sans', sans-serif;\n",
       "    }\n",
       "    h2 {\n",
       "        font-family: 'Fenix', serif;\n",
       "    }\n",
       "    h3{\n",
       "\t\tfont-family: 'Fenix', serif;\n",
       "        margin-top:12px;\n",
       "        margin-bottom: 3px;\n",
       "       }\n",
       "\th4{\n",
       "\t\tfont-family: 'Fenix', serif;\n",
       "       }\n",
       "    h5 {\n",
       "        font-family: 'Alegreya Sans', sans-serif;\n",
       "    }\t   \n",
       "    div.text_cell_render{\n",
       "        font-family: 'Alegreya Sans',Computer Modern, \"Helvetica Neue\", Arial, Helvetica, Geneva, sans-serif;\n",
       "        line-height: 135%;\n",
       "        font-size: 120%;\n",
       "        width:800px;\n",
       "        margin-left:auto;\n",
       "        margin-right:auto;\n",
       "    }\n",
       "    .CodeMirror{\n",
       "            font-family: \"Source Code Pro\";\n",
       "\t\t\tfont-size: 90%;\n",
       "    }\n",
       "/*    .prompt{\n",
       "        display: None;\n",
       "    }*/\n",
       "    .text_cell_render h1 {\n",
       "        font-weight: 200;\n",
       "        font-size: 50pt;\n",
       "\t\tline-height: 100%;\n",
       "        color:#CD2305;\n",
       "        margin-bottom: 0.5em;\n",
       "        margin-top: 0.5em;\n",
       "        display: block;\n",
       "    }\t\n",
       "    .text_cell_render h5 {\n",
       "        font-weight: 300;\n",
       "        font-size: 16pt;\n",
       "        color: #CD2305;\n",
       "        font-style: italic;\n",
       "        margin-bottom: .5em;\n",
       "        margin-top: 0.5em;\n",
       "        display: block;\n",
       "    }\n",
       "    \n",
       "    .warning{\n",
       "        color: rgb( 240, 20, 20 )\n",
       "        }  \n",
       "</style>\n",
       "<script>\n",
       "    MathJax.Hub.Config({\n",
       "                        TeX: {\n",
       "                           extensions: [\"AMSmath.js\"]\n",
       "                           },\n",
       "                tex2jax: {\n",
       "                    inlineMath: [ ['$','$'], [\"\\\\(\",\"\\\\)\"] ],\n",
       "                    displayMath: [ ['$$','$$'], [\"\\\\[\",\"\\\\]\"] ]\n",
       "                },\n",
       "                displayAlign: 'center', // Change this to 'center' to center equations.\n",
       "                \"HTML-CSS\": {\n",
       "                    styles: {'.MathJax_Display': {\"margin\": 4}}\n",
       "                }\n",
       "        });\n",
       "</script>\n"
      ],
      "text/plain": [
       "<IPython.core.display.HTML object>"
      ]
     },
     "execution_count": 16,
     "metadata": {},
     "output_type": "execute_result"
    }
   ],
   "source": [
    "from IPython.core.display import HTML\n",
    "def css_styling():\n",
    "    styles = open(\"../styles/custom.css\", \"r\").read()\n",
    "    return HTML(styles)\n",
    "css_styling()"
   ]
  },
  {
   "cell_type": "code",
   "execution_count": null,
   "metadata": {},
   "outputs": [],
   "source": []
  }
 ],
 "metadata": {
  "kernelspec": {
   "display_name": "Python 3",
   "language": "python",
   "name": "python3"
  },
  "language_info": {
   "codemirror_mode": {
    "name": "ipython",
    "version": 3
   },
   "file_extension": ".py",
   "mimetype": "text/x-python",
   "name": "python",
   "nbconvert_exporter": "python",
   "pygments_lexer": "ipython3",
   "version": "3.6.4"
  }
 },
 "nbformat": 4,
 "nbformat_minor": 2
}
