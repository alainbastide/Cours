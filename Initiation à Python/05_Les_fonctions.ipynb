{
 "cells": [
  {
   "cell_type": "markdown",
   "metadata": {},
   "source": [
    "# Les fonctions"
   ]
  },
  {
   "cell_type": "code",
   "execution_count": null,
   "metadata": {
    "collapsed": true
   },
   "outputs": [],
   "source": [
    "import numpy as np"
   ]
  },
  {
   "cell_type": "markdown",
   "metadata": {},
   "source": [
    "## Une fonction simple"
   ]
  },
  {
   "cell_type": "markdown",
   "metadata": {},
   "source": [
    "A fonction calcule le carré d'un nombre $y=x^2$"
   ]
  },
  {
   "cell_type": "code",
   "execution_count": null,
   "metadata": {
    "collapsed": true
   },
   "outputs": [],
   "source": [
    "def fonction1(x):\n",
    "    y = x**2\n",
    "    return y"
   ]
  },
  {
   "cell_type": "markdown",
   "metadata": {},
   "source": [
    "Exemple d'application"
   ]
  },
  {
   "cell_type": "code",
   "execution_count": null,
   "metadata": {
    "collapsed": true
   },
   "outputs": [],
   "source": [
    "x=5.7\n",
    "print(\"fonction1(x)=\",fonction1(x))"
   ]
  },
  {
   "cell_type": "markdown",
   "metadata": {},
   "source": [
    "## Une fonction à une entrée et N sorties"
   ]
  },
  {
   "cell_type": "markdown",
   "metadata": {},
   "source": [
    "Cette nouvelle fonction calcule deux nombres à partir d'un seul nombre. Un vecteur est retourné par la fonction."
   ]
  },
  {
   "cell_type": "code",
   "execution_count": 5,
   "metadata": {},
   "outputs": [
    {
     "name": "stdout",
     "output_type": "stream",
     "text": [
      "Donnez une valeur de x\n",
      "2222\n"
     ]
    }
   ],
   "source": [
    "def fonction2(x):\n",
    "    y1 = x**2\n",
    "    y2 = x**3 + 5*x**2\n",
    "    return [y1,y2]\n",
    "\n",
    "x=input(\"Donnez une valeur de x\\n\")"
   ]
  },
  {
   "cell_type": "markdown",
   "metadata": {},
   "source": [
    "La valeur de $x$ est une chaîne de caractères. avec la fonction *float*, on converti la chaîne de caractère en nombre. Par exemple, \"1.2\" est converti en nombre 1.2. "
   ]
  },
  {
   "cell_type": "code",
   "execution_count": 6,
   "metadata": {
    "collapsed": true
   },
   "outputs": [],
   "source": [
    "x=float(x)"
   ]
  },
  {
   "cell_type": "code",
   "execution_count": 7,
   "metadata": {},
   "outputs": [
    {
     "name": "stdout",
     "output_type": "stream",
     "text": [
      "fonction2(x)= [4937284.0, 10995331468.0]\n"
     ]
    }
   ],
   "source": [
    "print(\"fonction2(x)=\",fonction2(x))"
   ]
  },
  {
   "cell_type": "markdown",
   "metadata": {},
   "source": [
    "Il est possible de récupérer directement les deux éléments dans deux variables en écrivant :"
   ]
  },
  {
   "cell_type": "code",
   "execution_count": 10,
   "metadata": {},
   "outputs": [
    {
     "name": "stdout",
     "output_type": "stream",
     "text": [
      "4937284.0\n",
      "10995331468.0\n"
     ]
    }
   ],
   "source": [
    "[ya,yb] = fonction2(x)\n",
    "print(ya)\n",
    "print(yb)"
   ]
  },
  {
   "cell_type": "markdown",
   "metadata": {},
   "source": [
    "## Une fonction à N entrées et une sortie"
   ]
  },
  {
   "cell_type": "code",
   "execution_count": null,
   "metadata": {
    "collapsed": true
   },
   "outputs": [],
   "source": [
    "x=10.\n",
    "y=2.\n",
    "def fonction3(x,y):\n",
    "    \n",
    "    z = np.sin(x)*np.cos(y)\n",
    "    \n",
    "    return z\n",
    "\n",
    "print(\"fonction3(x,y)=\",fonction3(x,y))"
   ]
  },
  {
   "cell_type": "code",
   "execution_count": 1,
   "metadata": {},
   "outputs": [
    {
     "name": "stdout",
     "output_type": "stream",
     "text": [
      "fonction1(x)= 32.49\n",
      "Donnez une valeur de x\n",
      "1\n",
      "fonction2(x)= [1.0, 6.0]\n",
      "fonction3(x,y)= 0.226392664311\n",
      "V =  [  0.00000000e+00   1.00000000e-04   4.00000000e-04   9.00000000e-04\n",
      "   1.60000000e-03   2.50000000e-03   3.60000000e-03   4.90000000e-03\n",
      "   6.40000000e-03   8.10000000e-03   1.00000000e-02   1.21000000e-02\n",
      "   1.44000000e-02   1.69000000e-02   1.96000000e-02   2.25000000e-02\n",
      "   2.56000000e-02   2.89000000e-02   3.24000000e-02   3.61000000e-02\n",
      "   4.00000000e-02   4.41000000e-02   4.84000000e-02   5.29000000e-02\n",
      "   5.76000000e-02   6.25000000e-02   6.76000000e-02   7.29000000e-02\n",
      "   7.84000000e-02   8.41000000e-02   9.00000000e-02   9.61000000e-02\n",
      "   1.02400000e-01   1.08900000e-01   1.15600000e-01   1.22500000e-01\n",
      "   1.29600000e-01   1.36900000e-01   1.44400000e-01   1.52100000e-01\n",
      "   1.60000000e-01   1.68100000e-01   1.76400000e-01   1.84900000e-01\n",
      "   1.93600000e-01   2.02500000e-01   2.11600000e-01   2.20900000e-01\n",
      "   2.30400000e-01   2.40100000e-01   2.50000000e-01   2.60100000e-01\n",
      "   2.70400000e-01   2.80900000e-01   2.91600000e-01   3.02500000e-01\n",
      "   3.13600000e-01   3.24900000e-01   3.36400000e-01   3.48100000e-01\n",
      "   3.60000000e-01   3.72100000e-01   3.84400000e-01   3.96900000e-01\n",
      "   4.09600000e-01   4.22500000e-01   4.35600000e-01   4.48900000e-01\n",
      "   4.62400000e-01   4.76100000e-01   4.90000000e-01   5.04100000e-01\n",
      "   5.18400000e-01   5.32900000e-01   5.47600000e-01   5.62500000e-01\n",
      "   5.77600000e-01   5.92900000e-01   6.08400000e-01   6.24100000e-01\n",
      "   6.40000000e-01   6.56100000e-01   6.72400000e-01   6.88900000e-01\n",
      "   7.05600000e-01   7.22500000e-01   7.39600000e-01   7.56900000e-01\n",
      "   7.74400000e-01   7.92100000e-01   8.10000000e-01   8.28100000e-01\n",
      "   8.46400000e-01   8.64900000e-01   8.83600000e-01   9.02500000e-01\n",
      "   9.21600000e-01   9.40900000e-01   9.60400000e-01   9.80100000e-01]\n",
      "V[50] =  0.25\n"
     ]
    }
   ],
   "source": [
    "N = 100\n",
    "V = np.empty(N)\n",
    "for i in range(N):\n",
    "    x = i/100.\n",
    "    \n",
    "    V[i] = fonction1(x)\n",
    "    \n",
    "print(\"V = \",V)\n",
    "print(\"V[50] = \",V[50])"
   ]
  },
  {
   "cell_type": "code",
   "execution_count": 2,
   "metadata": {},
   "outputs": [
    {
     "data": {
      "text/html": [
       "<link href='http://fonts.googleapis.com/css?family=Fenix' rel='stylesheet' type='text/css'>\n",
       "<link href='http://fonts.googleapis.com/css?family=Alegreya+Sans:100,300,400,500,700,800,900,100italic,300italic,400italic,500italic,700italic,800italic,900italic' rel='stylesheet' type='text/css'>\n",
       "<link href='http://fonts.googleapis.com/css?family=Source+Code+Pro:300,400' rel='stylesheet' type='text/css'>\n",
       "<style>\n",
       "    @font-face {\n",
       "        font-family: \"Computer Modern\";\n",
       "        src: url('http://mirrors.ctan.org/fonts/cm-unicode/fonts/otf/cmunss.otf');\n",
       "    }\n",
       "    div.cell{\n",
       "        width:800px;\n",
       "        margin-left:16% !important;\n",
       "        margin-right:auto;\n",
       "    }\n",
       "    h1 {\n",
       "        font-family: 'Alegreya Sans', sans-serif;\n",
       "    }\n",
       "    h2 {\n",
       "        font-family: 'Fenix', serif;\n",
       "    }\n",
       "    h3{\n",
       "\t\tfont-family: 'Fenix', serif;\n",
       "        margin-top:12px;\n",
       "        margin-bottom: 3px;\n",
       "       }\n",
       "\th4{\n",
       "\t\tfont-family: 'Fenix', serif;\n",
       "       }\n",
       "    h5 {\n",
       "        font-family: 'Alegreya Sans', sans-serif;\n",
       "    }\t   \n",
       "    div.text_cell_render{\n",
       "        font-family: 'Alegreya Sans',Computer Modern, \"Helvetica Neue\", Arial, Helvetica, Geneva, sans-serif;\n",
       "        line-height: 135%;\n",
       "        font-size: 120%;\n",
       "        width:800px;\n",
       "        margin-left:auto;\n",
       "        margin-right:auto;\n",
       "    }\n",
       "    .CodeMirror{\n",
       "            font-family: \"Source Code Pro\";\n",
       "\t\t\tfont-size: 90%;\n",
       "    }\n",
       "/*    .prompt{\n",
       "        display: None;\n",
       "    }*/\n",
       "    .text_cell_render h1 {\n",
       "        font-weight: 200;\n",
       "        font-size: 50pt;\n",
       "\t\tline-height: 100%;\n",
       "        color:#CD2305;\n",
       "        margin-bottom: 0.5em;\n",
       "        margin-top: 0.5em;\n",
       "        display: block;\n",
       "    }\t\n",
       "    .text_cell_render h5 {\n",
       "        font-weight: 300;\n",
       "        font-size: 16pt;\n",
       "        color: #CD2305;\n",
       "        font-style: italic;\n",
       "        margin-bottom: .5em;\n",
       "        margin-top: 0.5em;\n",
       "        display: block;\n",
       "    }\n",
       "    \n",
       "    .warning{\n",
       "        color: rgb( 240, 20, 20 )\n",
       "        }  \n",
       "</style>\n",
       "<script>\n",
       "    MathJax.Hub.Config({\n",
       "                        TeX: {\n",
       "                           extensions: [\"AMSmath.js\"]\n",
       "                           },\n",
       "                tex2jax: {\n",
       "                    inlineMath: [ ['$','$'], [\"\\\\(\",\"\\\\)\"] ],\n",
       "                    displayMath: [ ['$$','$$'], [\"\\\\[\",\"\\\\]\"] ]\n",
       "                },\n",
       "                displayAlign: 'center', // Change this to 'center' to center equations.\n",
       "                \"HTML-CSS\": {\n",
       "                    styles: {'.MathJax_Display': {\"margin\": 4}}\n",
       "                }\n",
       "        });\n",
       "</script>\n"
      ],
      "text/plain": [
       "<IPython.core.display.HTML object>"
      ]
     },
     "execution_count": 2,
     "metadata": {},
     "output_type": "execute_result"
    }
   ],
   "source": [
    "from IPython.core.display import HTML\n",
    "def css_styling():\n",
    "    styles = open(\"../styles/custom.css\", \"r\").read()\n",
    "    return HTML(styles)\n",
    "css_styling()"
   ]
  }
 ],
 "metadata": {
  "kernelspec": {
   "display_name": "Python 3",
   "language": "python",
   "name": "python3"
  },
  "language_info": {
   "codemirror_mode": {
    "name": "ipython",
    "version": 3
   },
   "file_extension": ".py",
   "mimetype": "text/x-python",
   "name": "python",
   "nbconvert_exporter": "python",
   "pygments_lexer": "ipython3",
   "version": "3.6.1"
  }
 },
 "nbformat": 4,
 "nbformat_minor": 2
}
